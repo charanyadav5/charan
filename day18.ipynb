{
  "nbformat": 4,
  "nbformat_minor": 0,
  "metadata": {
    "colab": {
      "private_outputs": true,
      "provenance": [],
      "authorship_tag": "ABX9TyPbPXVwC1oa4WrgtqgNM4GD",
      "include_colab_link": true
    },
    "kernelspec": {
      "name": "python3",
      "display_name": "Python 3"
    },
    "language_info": {
      "name": "python"
    }
  },
  "cells": [
    {
      "cell_type": "markdown",
      "metadata": {
        "id": "view-in-github",
        "colab_type": "text"
      },
      "source": [
        "<a href=\"https://colab.research.google.com/github/charanyadav5/charan/blob/main/day18.ipynb\" target=\"_parent\"><img src=\"https://colab.research.google.com/assets/colab-badge.svg\" alt=\"Open In Colab\"/></a>"
      ]
    },
    {
      "cell_type": "code",
      "execution_count": null,
      "metadata": {
        "id": "ra-s8B63LdUE"
      },
      "outputs": [],
      "source": [
        "from pandas import read_csv\n",
        "import seaborn as sns\n",
        "import numpy as np\n",
        "from sklearn.feature_selection import SelectKBest\n",
        "from sklearn.feature_selection import chi2,f_regression,f_classif\n",
        "dataframe=sns.load_dataset('tips')\n",
        "dataframe"
      ]
    },
    {
      "cell_type": "code",
      "source": [
        "from sklearn.preprocessing import LabelEncoder\n",
        "le=LabelEncoder()\n",
        "dataframe['sex']=le.fit_transform(dataframe['sex'])\n",
        "dataframe['smoker']=le.fit_transform(dataframe['smoker'])\n",
        "dataframe['day']=le.fit_transform(dataframe['day'])\n",
        "dataframe['time']=le.fit_transform(dataframe['time'])"
      ],
      "metadata": {
        "id": "PDg-C7u1NkTr"
      },
      "execution_count": null,
      "outputs": []
    },
    {
      "cell_type": "code",
      "source": [
        "dataframe"
      ],
      "metadata": {
        "id": "PpAIOKElNrwR"
      },
      "execution_count": null,
      "outputs": []
    },
    {
      "cell_type": "code",
      "source": [
        "x = dataframe.drop('tip',axis=1)\n",
        "y = dataframe['tip']"
      ],
      "metadata": {
        "id": "T5SPuSIvNuCs"
      },
      "execution_count": null,
      "outputs": []
    },
    {
      "cell_type": "code",
      "source": [
        "x"
      ],
      "metadata": {
        "id": "aIlql3bVN5PX"
      },
      "execution_count": null,
      "outputs": []
    },
    {
      "cell_type": "code",
      "source": [
        "test = SelectKBest(score_func=f_regression, k=4).fit(x,y)\n",
        "test"
      ],
      "metadata": {
        "id": "EM8eW2QcN5-q"
      },
      "execution_count": null,
      "outputs": []
    },
    {
      "cell_type": "code",
      "source": [],
      "metadata": {
        "id": "uZN2VDLLPf9y"
      },
      "execution_count": null,
      "outputs": []
    }
  ]
}