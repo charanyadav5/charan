{
  "nbformat": 4,
  "nbformat_minor": 0,
  "metadata": {
    "colab": {
      "private_outputs": true,
      "provenance": [],
      "authorship_tag": "ABX9TyPaSSbD/2S2DoZqBLKjswdl",
      "include_colab_link": true
    },
    "kernelspec": {
      "name": "python3",
      "display_name": "Python 3"
    },
    "language_info": {
      "name": "python"
    }
  },
  "cells": [
    {
      "cell_type": "markdown",
      "metadata": {
        "id": "view-in-github",
        "colab_type": "text"
      },
      "source": [
        "<a href=\"https://colab.research.google.com/github/charanyadav5/charan/blob/main/day18.ipynb\" target=\"_parent\"><img src=\"https://colab.research.google.com/assets/colab-badge.svg\" alt=\"Open In Colab\"/></a>"
      ]
    },
    {
      "cell_type": "code",
      "execution_count": null,
      "metadata": {
        "id": "ra-s8B63LdUE"
      },
      "outputs": [],
      "source": [
        "from pandas import read_csv\n",
        "import seaborn as sns\n",
        "import numpy as np\n",
        "from sklearn.feature_selection import SelectKBest\n",
        "from sklearn.feature_selection import chi2,f_regression,f_classif\n",
        "dataframe=sns.load_dataset('tips')\n",
        "dataframe"
      ]
    },
    {
      "cell_type": "code",
      "source": [
        "from sklearn.preprocessing import LabelEncoder\n",
        "le=LabelEncoder()\n",
        "dataframe['sex']=le.fit_transform(dataframe['sex'])\n",
        "dataframe['smoker']=le.fit_transform(dataframe['smoker'])\n",
        "dataframe['day']=le.fit_transform(dataframe['day'])\n",
        "dataframe['time']=le.fit_transform(dataframe['time'])"
      ],
      "metadata": {
        "id": "PDg-C7u1NkTr"
      },
      "execution_count": null,
      "outputs": []
    },
    {
      "cell_type": "code",
      "source": [
        "dataframe"
      ],
      "metadata": {
        "id": "PpAIOKElNrwR"
      },
      "execution_count": null,
      "outputs": []
    },
    {
      "cell_type": "code",
      "source": [
        "x = dataframe.drop('tip',axis=1)\n",
        "y = dataframe['tip']"
      ],
      "metadata": {
        "id": "T5SPuSIvNuCs"
      },
      "execution_count": null,
      "outputs": []
    },
    {
      "cell_type": "code",
      "source": [
        "x"
      ],
      "metadata": {
        "id": "aIlql3bVN5PX"
      },
      "execution_count": null,
      "outputs": []
    },
    {
      "cell_type": "code",
      "source": [
        "test = SelectKBest(score_func=f_regression, k=4).fit(x,y)\n",
        "test"
      ],
      "metadata": {
        "id": "EM8eW2QcN5-q"
      },
      "execution_count": null,
      "outputs": []
    },
    {
      "cell_type": "code",
      "source": [
        "np.round(test.scores_,2)\n"
      ],
      "metadata": {
        "id": "uZN2VDLLPf9y"
      },
      "execution_count": null,
      "outputs": []
    },
    {
      "cell_type": "code",
      "source": [
        "np.round(test.pvalues_,2)"
      ],
      "metadata": {
        "id": "13MjlKJPOpuE"
      },
      "execution_count": null,
      "outputs": []
    },
    {
      "cell_type": "code",
      "source": [
        "dataframe.columns"
      ],
      "metadata": {
        "id": "6eCKhqsuQCB7"
      },
      "execution_count": null,
      "outputs": []
    },
    {
      "cell_type": "code",
      "source": [
        "test.get_feature_names_out()"
      ],
      "metadata": {
        "id": "-DP2JJsVQ4UN"
      },
      "execution_count": null,
      "outputs": []
    },
    {
      "cell_type": "code",
      "source": [
        "dataframe.columns[np.where(test.pvalues_<0.05)]"
      ],
      "metadata": {
        "id": "MXXrd7w6RmgE"
      },
      "execution_count": null,
      "outputs": []
    },
    {
      "cell_type": "code",
      "source": [
        "df=sns.load_dataset('iris')\n",
        "df.head()"
      ],
      "metadata": {
        "id": "NgbG4hN2SZwB"
      },
      "execution_count": null,
      "outputs": []
    },
    {
      "cell_type": "code",
      "source": [
        "df['species']=le.fit_transform(df['species'])"
      ],
      "metadata": {
        "id": "aMq9juhkSvRE"
      },
      "execution_count": null,
      "outputs": []
    },
    {
      "cell_type": "code",
      "source": [
        "df.head()"
      ],
      "metadata": {
        "id": "5FiGIJM1TM6V"
      },
      "execution_count": null,
      "outputs": []
    },
    {
      "cell_type": "code",
      "source": [
        "x=df.iloc[:,0:4]\n",
        "x"
      ],
      "metadata": {
        "id": "FUSmBgpQTSEn"
      },
      "execution_count": null,
      "outputs": []
    },
    {
      "cell_type": "code",
      "source": [
        "y=df['species']\n",
        "y"
      ],
      "metadata": {
        "id": "y4PodPE_VHmo"
      },
      "execution_count": null,
      "outputs": []
    },
    {
      "cell_type": "code",
      "source": [
        "selector=SelectKBest(score_func=f_classif,k=2).fit(x,y)\n",
        "selector"
      ],
      "metadata": {
        "id": "3VTxygMLViDG"
      },
      "execution_count": null,
      "outputs": []
    },
    {
      "cell_type": "code",
      "source": [
        "x"
      ],
      "metadata": {
        "id": "dgj5Ke0kVurx"
      },
      "execution_count": null,
      "outputs": []
    },
    {
      "cell_type": "code",
      "source": [
        " selector.pvalues_"
      ],
      "metadata": {
        "id": "r7x55LuGWL8d"
      },
      "execution_count": null,
      "outputs": []
    },
    {
      "cell_type": "code",
      "source": [
        "selector.scores_"
      ],
      "metadata": {
        "id": "hru7eNIkW89k"
      },
      "execution_count": null,
      "outputs": []
    },
    {
      "cell_type": "code",
      "source": [
        "df.columns[np.where(selector.get_support(indices=True))]"
      ],
      "metadata": {
        "id": "MCccx0v3XEcH"
      },
      "execution_count": null,
      "outputs": []
    },
    {
      "cell_type": "code",
      "source": [],
      "metadata": {
        "id": "S8VtW68bXkds"
      },
      "execution_count": null,
      "outputs": []
    }
  ]
}