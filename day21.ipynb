{
  "nbformat": 4,
  "nbformat_minor": 0,
  "metadata": {
    "colab": {
      "private_outputs": true,
      "provenance": [],
      "authorship_tag": "ABX9TyMFa8v9Ud2qolKhFpkwHcIp",
      "include_colab_link": true
    },
    "kernelspec": {
      "name": "python3",
      "display_name": "Python 3"
    },
    "language_info": {
      "name": "python"
    }
  },
  "cells": [
    {
      "cell_type": "markdown",
      "metadata": {
        "id": "view-in-github",
        "colab_type": "text"
      },
      "source": [
        "<a href=\"https://colab.research.google.com/github/charanyadav5/charan/blob/main/day21.ipynb\" target=\"_parent\"><img src=\"https://colab.research.google.com/assets/colab-badge.svg\" alt=\"Open In Colab\"/></a>"
      ]
    },
    {
      "cell_type": "code",
      "execution_count": null,
      "metadata": {
        "id": "lNBWakBVSRkf"
      },
      "outputs": [],
      "source": [
        "import pandas as pd\n",
        "import matplotlib.pyplot as plt\n",
        "import seaborn as sns\n",
        "import statsmodels.api as smf\n",
        "import numpy as np"
      ]
    },
    {
      "cell_type": "code",
      "source": [
        "cars = pd.read_csv('/content/Cars.csv')\n",
        "cars.head()"
      ],
      "metadata": {
        "id": "XCDqdhp2Tfy1"
      },
      "execution_count": null,
      "outputs": []
    },
    {
      "cell_type": "code",
      "source": [
        "cars.duplicated()"
      ],
      "metadata": {
        "id": "BoTvUFSdVakS"
      },
      "execution_count": null,
      "outputs": []
    },
    {
      "cell_type": "code",
      "source": [
        "cars.info()"
      ],
      "metadata": {
        "id": "vjWFjJNNVgY1"
      },
      "execution_count": null,
      "outputs": []
    },
    {
      "cell_type": "code",
      "source": [
        "cars.describe()"
      ],
      "metadata": {
        "id": "p5NwOiyRY7LQ"
      },
      "execution_count": null,
      "outputs": []
    },
    {
      "cell_type": "code",
      "source": [
        "sns.displot(cars['MPG'])\n",
        "plt.show()\n"
      ],
      "metadata": {
        "id": "J0TSYzLFY-jZ"
      },
      "execution_count": null,
      "outputs": []
    },
    {
      "cell_type": "code",
      "source": [
        "sns.displot(cars['HP'])\n",
        "plt.show()\n"
      ],
      "metadata": {
        "id": "5sOWEDLdZVyQ"
      },
      "execution_count": null,
      "outputs": []
    },
    {
      "cell_type": "code",
      "source": [
        "sns.displot(cars['VOL'])\n",
        "plt.show()\n"
      ],
      "metadata": {
        "id": "6wOcoW9PZhur"
      },
      "execution_count": null,
      "outputs": []
    },
    {
      "cell_type": "code",
      "source": [
        "sns.displot(cars['SP'])\n",
        "plt.show()\n"
      ],
      "metadata": {
        "id": "ot7EV7uWZ0Eu"
      },
      "execution_count": null,
      "outputs": []
    },
    {
      "cell_type": "code",
      "source": [
        "sns.displot(cars['WT'])\n",
        "plt.show()\n"
      ],
      "metadata": {
        "id": "WDCKpcByaGHO"
      },
      "execution_count": null,
      "outputs": []
    },
    {
      "cell_type": "code",
      "source": [
        "cars.isna().sum()"
      ],
      "metadata": {
        "id": "Pu2HKxl8aJf9"
      },
      "execution_count": null,
      "outputs": []
    },
    {
      "cell_type": "code",
      "source": [
        "sns.boxplot(x=cars['HP'])\n",
        "plt.show()"
      ],
      "metadata": {
        "id": "tZSHb86McZEW"
      },
      "execution_count": null,
      "outputs": []
    },
    {
      "cell_type": "code",
      "source": [
        "sns.boxplot(x=cars['VOL'])\n",
        "plt.show()"
      ],
      "metadata": {
        "id": "bzRmryM_c2a5"
      },
      "execution_count": null,
      "outputs": []
    },
    {
      "cell_type": "code",
      "source": [
        "sns.boxplot(x=cars['MPG'])\n",
        "plt.show()"
      ],
      "metadata": {
        "id": "gb8HWZQcceRo"
      },
      "execution_count": null,
      "outputs": []
    },
    {
      "cell_type": "code",
      "source": [
        "sns.boxplot(x=cars['SP'])\n",
        "plt.show()"
      ],
      "metadata": {
        "id": "BOO3RKvJcpuO"
      },
      "execution_count": null,
      "outputs": []
    },
    {
      "cell_type": "code",
      "source": [
        "sns.boxplot(x=cars['WT'])\n",
        "plt.show()"
      ],
      "metadata": {
        "id": "60tfmE-mct0S"
      },
      "execution_count": null,
      "outputs": []
    },
    {
      "cell_type": "code",
      "source": [
        "sns.scatterplot(x=cars['HP'])\n",
        "plt.show()"
      ],
      "metadata": {
        "id": "KlOjZvlncxcq"
      },
      "execution_count": null,
      "outputs": []
    },
    {
      "cell_type": "code",
      "source": [
        "sns.scatterplot(x=cars['MPG'])\n",
        "plt.show()"
      ],
      "metadata": {
        "id": "mzazV1WZdFH2"
      },
      "execution_count": null,
      "outputs": []
    },
    {
      "cell_type": "code",
      "source": [
        "sns.scatterplot(x=cars['VOL'])\n",
        "plt.show()"
      ],
      "metadata": {
        "id": "FyFRBIc2dN7x"
      },
      "execution_count": null,
      "outputs": []
    },
    {
      "cell_type": "code",
      "source": [],
      "metadata": {
        "id": "3tHuEriSenWG"
      },
      "execution_count": null,
      "outputs": []
    }
  ]
}